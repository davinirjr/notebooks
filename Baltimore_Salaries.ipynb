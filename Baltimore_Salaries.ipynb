{
 "cells": [
  {
   "cell_type": "code",
   "execution_count": 1,
   "metadata": {
    "collapsed": true
   },
   "outputs": [],
   "source": [
    "%matplotlib inline"
   ]
  },
  {
   "cell_type": "code",
   "execution_count": 86,
   "metadata": {
    "collapsed": false
   },
   "outputs": [
    {
     "name": "stderr",
     "output_type": "stream",
     "text": [
      "/home/ipynb/.ipyvirt/local/lib/python2.7/site-packages/requests/packages/urllib3/util/ssl_.py:90: InsecurePlatformWarning: A true SSLContext object is not available. This prevents urllib3 from configuring SSL appropriately and may cause certain SSL connections to fail. For more information, see https://urllib3.readthedocs.org/en/latest/security.html#insecureplatformwarning.\n",
      "  InsecurePlatformWarning\n"
     ]
    },
    {
     "data": {
      "text/html": [
       "<div style=\"max-height:1000px;max-width:1500px;overflow:auto;\">\n",
       "<table border=\"1\" class=\"dataframe\">\n",
       "  <thead>\n",
       "    <tr style=\"text-align: right;\">\n",
       "      <th></th>\n",
       "      <th>sum</th>\n",
       "      <th>mean</th>\n",
       "      <th>std</th>\n",
       "      <th>size</th>\n",
       "      <th>amin</th>\n",
       "      <th>amax</th>\n",
       "    </tr>\n",
       "    <tr>\n",
       "      <th>JobTitle</th>\n",
       "      <th></th>\n",
       "      <th></th>\n",
       "      <th></th>\n",
       "      <th></th>\n",
       "      <th></th>\n",
       "      <th></th>\n",
       "    </tr>\n",
       "  </thead>\n",
       "  <tbody>\n",
       "    <tr>\n",
       "      <th>POLICE OFFICER</th>\n",
       "      <td> 113057468.0</td>\n",
       "      <td>  60588.139335</td>\n",
       "      <td>  8284.120895</td>\n",
       "      <td> 1866</td>\n",
       "      <td> 43999</td>\n",
       "      <td>  71291</td>\n",
       "    </tr>\n",
       "    <tr>\n",
       "      <th>AIDE BLUE CHIP</th>\n",
       "      <td>  54499380.0</td>\n",
       "      <td>  11313.967200</td>\n",
       "      <td>   117.949225</td>\n",
       "      <td> 4817</td>\n",
       "      <td> 11310</td>\n",
       "      <td>  15600</td>\n",
       "    </tr>\n",
       "    <tr>\n",
       "      <th>EMT Firefighter Suppression</th>\n",
       "      <td>  22000418.0</td>\n",
       "      <td>  61453.681564</td>\n",
       "      <td>  6562.939105</td>\n",
       "      <td>  358</td>\n",
       "      <td> 47475</td>\n",
       "      <td>  75197</td>\n",
       "    </tr>\n",
       "    <tr>\n",
       "      <th>LABORER (Hourly)</th>\n",
       "      <td>  17865623.0</td>\n",
       "      <td>  29925.666667</td>\n",
       "      <td>  1297.986721</td>\n",
       "      <td>  597</td>\n",
       "      <td> 28309</td>\n",
       "      <td>  33613</td>\n",
       "    </tr>\n",
       "    <tr>\n",
       "      <th>POLICE SERGEANT</th>\n",
       "      <td>  17320452.0</td>\n",
       "      <td>  78020.054054</td>\n",
       "      <td>  3299.578516</td>\n",
       "      <td>  222</td>\n",
       "      <td> 69528</td>\n",
       "      <td>  82704</td>\n",
       "    </tr>\n",
       "    <tr>\n",
       "      <th>POLICE OFFICER (EID)</th>\n",
       "      <td>  16235687.0</td>\n",
       "      <td>  64942.748000</td>\n",
       "      <td>  4487.637577</td>\n",
       "      <td>  250</td>\n",
       "      <td> 54463</td>\n",
       "      <td>  73012</td>\n",
       "    </tr>\n",
       "    <tr>\n",
       "      <th>Fire Lieutenant Suppression</th>\n",
       "      <td>  10862692.0</td>\n",
       "      <td>  82293.121212</td>\n",
       "      <td>  3538.303326</td>\n",
       "      <td>  132</td>\n",
       "      <td> 73821</td>\n",
       "      <td>  86247</td>\n",
       "    </tr>\n",
       "    <tr>\n",
       "      <th>ASSISTANT STATE'S ATTORNEY</th>\n",
       "      <td>  10462600.0</td>\n",
       "      <td>  69750.666667</td>\n",
       "      <td> 12861.042296</td>\n",
       "      <td>  150</td>\n",
       "      <td> 55000</td>\n",
       "      <td>  94900</td>\n",
       "    </tr>\n",
       "    <tr>\n",
       "      <th>Firefighter/Paramedic Suppress</th>\n",
       "      <td>  10096356.0</td>\n",
       "      <td>  67760.778523</td>\n",
       "      <td>  2859.659273</td>\n",
       "      <td>  149</td>\n",
       "      <td> 47476</td>\n",
       "      <td>  77305</td>\n",
       "    </tr>\n",
       "    <tr>\n",
       "      <th>EXECUTIVE LEVEL II</th>\n",
       "      <td>   9653928.4</td>\n",
       "      <td> 116312.390361</td>\n",
       "      <td> 16394.384734</td>\n",
       "      <td>   83</td>\n",
       "      <td> 80000</td>\n",
       "      <td> 150756</td>\n",
       "    </tr>\n",
       "  </tbody>\n",
       "</table>\n",
       "</div>"
      ],
      "text/plain": [
       "                                        sum           mean           std  size   amin    amax\n",
       "JobTitle                                                                                     \n",
       "POLICE OFFICER                  113057468.0   60588.139335   8284.120895  1866  43999   71291\n",
       "AIDE BLUE CHIP                   54499380.0   11313.967200    117.949225  4817  11310   15600\n",
       "EMT Firefighter Suppression      22000418.0   61453.681564   6562.939105   358  47475   75197\n",
       "LABORER (Hourly)                 17865623.0   29925.666667   1297.986721   597  28309   33613\n",
       "POLICE SERGEANT                  17320452.0   78020.054054   3299.578516   222  69528   82704\n",
       "POLICE OFFICER (EID)             16235687.0   64942.748000   4487.637577   250  54463   73012\n",
       "Fire Lieutenant Suppression      10862692.0   82293.121212   3538.303326   132  73821   86247\n",
       "ASSISTANT STATE'S ATTORNEY       10462600.0   69750.666667  12861.042296   150  55000   94900\n",
       "Firefighter/Paramedic Suppress   10096356.0   67760.778523   2859.659273   149  47476   77305\n",
       "EXECUTIVE LEVEL II                9653928.4  116312.390361  16394.384734    83  80000  150756"
      ]
     },
     "execution_count": 86,
     "metadata": {},
     "output_type": "execute_result"
    }
   ],
   "source": [
    "import pandas as pd\n",
    "import requests\n",
    "import StringIO as StringIO\n",
    "import numpy as np\n",
    "\n",
    "# get the data\n",
    "url = \"https://data.baltimorecity.gov/api/views/2j28-xzd7/rows.csv?accessType=DOWNLOAD\"\n",
    "r = requests.get(url)\n",
    "data = StringIO.StringIO(r.content)   \n",
    "                                                 \n",
    "# buid a dataframe\n",
    "dataframe = pd.read_csv(data,header=0)\n",
    "\n",
    "# clean up the data and assign data types                                       \n",
    "dataframe['AnnualSalary'] = dataframe['AnnualSalary'].str.lstrip('$')\n",
    "dataframe['AnnualSalary'] = dataframe['AnnualSalary'].astype(float)\n",
    "\n",
    "# group the data\n",
    "grouped = dataframe.groupby(['JobTitle'])['AnnualSalary']\n",
    "aggregated = grouped.agg([np.sum, np.mean, np.std, np.size, np.min, np.max])\n",
    "\n",
    "# sort the data\n",
    "pd.set_option('display.max_rows', 10000000)\n",
    "output = aggregated.sort(['amax'],ascending=0)\n",
    "output.head(10)\n",
    "output = aggregated.sort(['sum','size'],ascending=[0,1])\n",
    "output.head(10)"
   ]
  },
  {
   "cell_type": "code",
   "execution_count": 3,
   "metadata": {
    "collapsed": true
   },
   "outputs": [],
   "source": [
    "output = aggregated.sort(['amax'],ascending=0)\n"
   ]
  },
  {
   "cell_type": "code",
   "execution_count": 4,
   "metadata": {
    "collapsed": false
   },
   "outputs": [
    {
     "data": {
      "text/html": [
       "<div style=\"max-height:1000px;max-width:1500px;overflow:auto;\">\n",
       "<table border=\"1\" class=\"dataframe\">\n",
       "  <thead>\n",
       "    <tr style=\"text-align: right;\">\n",
       "      <th></th>\n",
       "      <th>sum</th>\n",
       "      <th>mean</th>\n",
       "      <th>std</th>\n",
       "      <th>size</th>\n",
       "      <th>amin</th>\n",
       "      <th>amax</th>\n",
       "    </tr>\n",
       "    <tr>\n",
       "      <th>JobTitle</th>\n",
       "      <th></th>\n",
       "      <th></th>\n",
       "      <th></th>\n",
       "      <th></th>\n",
       "      <th></th>\n",
       "      <th></th>\n",
       "    </tr>\n",
       "  </thead>\n",
       "  <tbody>\n",
       "    <tr>\n",
       "      <th>STATE'S ATTORNEY</th>\n",
       "      <td>  238772.0</td>\n",
       "      <td> 238772.000000</td>\n",
       "      <td>          NaN</td>\n",
       "      <td>   1</td>\n",
       "      <td> 238772</td>\n",
       "      <td> 238772</td>\n",
       "    </tr>\n",
       "    <tr>\n",
       "      <th>EXECUTIVE LEVEL III</th>\n",
       "      <td> 1939968.0</td>\n",
       "      <td> 161664.000000</td>\n",
       "      <td> 23053.267708</td>\n",
       "      <td>  12</td>\n",
       "      <td> 132600</td>\n",
       "      <td> 200000</td>\n",
       "    </tr>\n",
       "    <tr>\n",
       "      <th>CONTRACT SERV SPEC II</th>\n",
       "      <td> 6205482.0</td>\n",
       "      <td>  55905.243243</td>\n",
       "      <td> 28837.184910</td>\n",
       "      <td> 111</td>\n",
       "      <td>  15392</td>\n",
       "      <td> 187200</td>\n",
       "    </tr>\n",
       "    <tr>\n",
       "      <th>MAYOR</th>\n",
       "      <td>  163365.0</td>\n",
       "      <td> 163365.000000</td>\n",
       "      <td>          NaN</td>\n",
       "      <td>   1</td>\n",
       "      <td> 163365</td>\n",
       "      <td> 163365</td>\n",
       "    </tr>\n",
       "    <tr>\n",
       "      <th>CITY SOLICITOR</th>\n",
       "      <td>  163200.0</td>\n",
       "      <td> 163200.000000</td>\n",
       "      <td>          NaN</td>\n",
       "      <td>   1</td>\n",
       "      <td> 163200</td>\n",
       "      <td> 163200</td>\n",
       "    </tr>\n",
       "    <tr>\n",
       "      <th>DIRECTOR PUBLIC WORKS</th>\n",
       "      <td>  163200.0</td>\n",
       "      <td> 163200.000000</td>\n",
       "      <td>          NaN</td>\n",
       "      <td>   1</td>\n",
       "      <td> 163200</td>\n",
       "      <td> 163200</td>\n",
       "    </tr>\n",
       "    <tr>\n",
       "      <th>CONTRACT SERVICES SPEC. I</th>\n",
       "      <td> 5366446.0</td>\n",
       "      <td>  44350.793388</td>\n",
       "      <td> 22709.853783</td>\n",
       "      <td> 121</td>\n",
       "      <td>  15392</td>\n",
       "      <td> 156000</td>\n",
       "    </tr>\n",
       "    <tr>\n",
       "      <th>CITY AUDITOR</th>\n",
       "      <td>  153600.0</td>\n",
       "      <td> 153600.000000</td>\n",
       "      <td>          NaN</td>\n",
       "      <td>   1</td>\n",
       "      <td> 153600</td>\n",
       "      <td> 153600</td>\n",
       "    </tr>\n",
       "    <tr>\n",
       "      <th>EXECUTIVE LEVEL II</th>\n",
       "      <td> 9653928.4</td>\n",
       "      <td> 116312.390361</td>\n",
       "      <td> 16394.384734</td>\n",
       "      <td>  83</td>\n",
       "      <td>  80000</td>\n",
       "      <td> 150756</td>\n",
       "    </tr>\n",
       "    <tr>\n",
       "      <th>POLICE COMMAND STAFF II</th>\n",
       "      <td> 1631204.0</td>\n",
       "      <td> 116514.571429</td>\n",
       "      <td> 12626.188424</td>\n",
       "      <td>  14</td>\n",
       "      <td> 105000</td>\n",
       "      <td> 142700</td>\n",
       "    </tr>\n",
       "  </tbody>\n",
       "</table>\n",
       "</div>"
      ],
      "text/plain": [
       "                                 sum           mean           std  size    amin    amax\n",
       "JobTitle                                                                               \n",
       "STATE'S ATTORNEY            238772.0  238772.000000           NaN     1  238772  238772\n",
       "EXECUTIVE LEVEL III        1939968.0  161664.000000  23053.267708    12  132600  200000\n",
       "CONTRACT SERV SPEC II      6205482.0   55905.243243  28837.184910   111   15392  187200\n",
       "MAYOR                       163365.0  163365.000000           NaN     1  163365  163365\n",
       "CITY SOLICITOR              163200.0  163200.000000           NaN     1  163200  163200\n",
       "DIRECTOR PUBLIC WORKS       163200.0  163200.000000           NaN     1  163200  163200\n",
       "CONTRACT SERVICES SPEC. I  5366446.0   44350.793388  22709.853783   121   15392  156000\n",
       "CITY AUDITOR                153600.0  153600.000000           NaN     1  153600  153600\n",
       "EXECUTIVE LEVEL II         9653928.4  116312.390361  16394.384734    83   80000  150756\n",
       "POLICE COMMAND STAFF II    1631204.0  116514.571429  12626.188424    14  105000  142700"
      ]
     },
     "execution_count": 4,
     "metadata": {},
     "output_type": "execute_result"
    }
   ],
   "source": [
    "output.head(10)\n"
   ]
  },
  {
   "cell_type": "code",
   "execution_count": 5,
   "metadata": {
    "collapsed": true
   },
   "outputs": [],
   "source": [
    "output = aggregated.sort(['sum','size'],ascending=[0,1])"
   ]
  },
  {
   "cell_type": "code",
   "execution_count": 6,
   "metadata": {
    "collapsed": false
   },
   "outputs": [
    {
     "data": {
      "text/html": [
       "<div style=\"max-height:1000px;max-width:1500px;overflow:auto;\">\n",
       "<table border=\"1\" class=\"dataframe\">\n",
       "  <thead>\n",
       "    <tr style=\"text-align: right;\">\n",
       "      <th></th>\n",
       "      <th>sum</th>\n",
       "      <th>mean</th>\n",
       "      <th>std</th>\n",
       "      <th>size</th>\n",
       "      <th>amin</th>\n",
       "      <th>amax</th>\n",
       "    </tr>\n",
       "    <tr>\n",
       "      <th>JobTitle</th>\n",
       "      <th></th>\n",
       "      <th></th>\n",
       "      <th></th>\n",
       "      <th></th>\n",
       "      <th></th>\n",
       "      <th></th>\n",
       "    </tr>\n",
       "  </thead>\n",
       "  <tbody>\n",
       "    <tr>\n",
       "      <th>POLICE OFFICER</th>\n",
       "      <td> 113057468.0</td>\n",
       "      <td>  60588.139335</td>\n",
       "      <td>  8284.120895</td>\n",
       "      <td> 1866</td>\n",
       "      <td> 43999</td>\n",
       "      <td>  71291</td>\n",
       "    </tr>\n",
       "    <tr>\n",
       "      <th>AIDE BLUE CHIP</th>\n",
       "      <td>  54499380.0</td>\n",
       "      <td>  11313.967200</td>\n",
       "      <td>   117.949225</td>\n",
       "      <td> 4817</td>\n",
       "      <td> 11310</td>\n",
       "      <td>  15600</td>\n",
       "    </tr>\n",
       "    <tr>\n",
       "      <th>EMT Firefighter Suppression</th>\n",
       "      <td>  22000418.0</td>\n",
       "      <td>  61453.681564</td>\n",
       "      <td>  6562.939105</td>\n",
       "      <td>  358</td>\n",
       "      <td> 47475</td>\n",
       "      <td>  75197</td>\n",
       "    </tr>\n",
       "    <tr>\n",
       "      <th>LABORER (Hourly)</th>\n",
       "      <td>  17865623.0</td>\n",
       "      <td>  29925.666667</td>\n",
       "      <td>  1297.986721</td>\n",
       "      <td>  597</td>\n",
       "      <td> 28309</td>\n",
       "      <td>  33613</td>\n",
       "    </tr>\n",
       "    <tr>\n",
       "      <th>POLICE SERGEANT</th>\n",
       "      <td>  17320452.0</td>\n",
       "      <td>  78020.054054</td>\n",
       "      <td>  3299.578516</td>\n",
       "      <td>  222</td>\n",
       "      <td> 69528</td>\n",
       "      <td>  82704</td>\n",
       "    </tr>\n",
       "    <tr>\n",
       "      <th>POLICE OFFICER (EID)</th>\n",
       "      <td>  16235687.0</td>\n",
       "      <td>  64942.748000</td>\n",
       "      <td>  4487.637577</td>\n",
       "      <td>  250</td>\n",
       "      <td> 54463</td>\n",
       "      <td>  73012</td>\n",
       "    </tr>\n",
       "    <tr>\n",
       "      <th>Fire Lieutenant Suppression</th>\n",
       "      <td>  10862692.0</td>\n",
       "      <td>  82293.121212</td>\n",
       "      <td>  3538.303326</td>\n",
       "      <td>  132</td>\n",
       "      <td> 73821</td>\n",
       "      <td>  86247</td>\n",
       "    </tr>\n",
       "    <tr>\n",
       "      <th>ASSISTANT STATE'S ATTORNEY</th>\n",
       "      <td>  10462600.0</td>\n",
       "      <td>  69750.666667</td>\n",
       "      <td> 12861.042296</td>\n",
       "      <td>  150</td>\n",
       "      <td> 55000</td>\n",
       "      <td>  94900</td>\n",
       "    </tr>\n",
       "    <tr>\n",
       "      <th>Firefighter/Paramedic Suppress</th>\n",
       "      <td>  10096356.0</td>\n",
       "      <td>  67760.778523</td>\n",
       "      <td>  2859.659273</td>\n",
       "      <td>  149</td>\n",
       "      <td> 47476</td>\n",
       "      <td>  77305</td>\n",
       "    </tr>\n",
       "    <tr>\n",
       "      <th>EXECUTIVE LEVEL II</th>\n",
       "      <td>   9653928.4</td>\n",
       "      <td> 116312.390361</td>\n",
       "      <td> 16394.384734</td>\n",
       "      <td>   83</td>\n",
       "      <td> 80000</td>\n",
       "      <td> 150756</td>\n",
       "    </tr>\n",
       "  </tbody>\n",
       "</table>\n",
       "</div>"
      ],
      "text/plain": [
       "                                        sum           mean           std  size   amin    amax\n",
       "JobTitle                                                                                     \n",
       "POLICE OFFICER                  113057468.0   60588.139335   8284.120895  1866  43999   71291\n",
       "AIDE BLUE CHIP                   54499380.0   11313.967200    117.949225  4817  11310   15600\n",
       "EMT Firefighter Suppression      22000418.0   61453.681564   6562.939105   358  47475   75197\n",
       "LABORER (Hourly)                 17865623.0   29925.666667   1297.986721   597  28309   33613\n",
       "POLICE SERGEANT                  17320452.0   78020.054054   3299.578516   222  69528   82704\n",
       "POLICE OFFICER (EID)             16235687.0   64942.748000   4487.637577   250  54463   73012\n",
       "Fire Lieutenant Suppression      10862692.0   82293.121212   3538.303326   132  73821   86247\n",
       "ASSISTANT STATE'S ATTORNEY       10462600.0   69750.666667  12861.042296   150  55000   94900\n",
       "Firefighter/Paramedic Suppress   10096356.0   67760.778523   2859.659273   149  47476   77305\n",
       "EXECUTIVE LEVEL II                9653928.4  116312.390361  16394.384734    83  80000  150756"
      ]
     },
     "execution_count": 6,
     "metadata": {},
     "output_type": "execute_result"
    }
   ],
   "source": [
    "output.head(10)\n"
   ]
  },
  {
   "cell_type": "code",
   "execution_count": 30,
   "metadata": {
    "collapsed": true
   },
   "outputs": [],
   "source": [
    "aggregated = grouped.agg([np.sum])\n"
   ]
  },
  {
   "cell_type": "code",
   "execution_count": 79,
   "metadata": {
    "collapsed": false
   },
   "outputs": [],
   "source": [
    "output = aggregated.sort(['sum'],ascending=0)"
   ]
  },
  {
   "cell_type": "code",
   "execution_count": 80,
   "metadata": {
    "collapsed": true
   },
   "outputs": [],
   "source": [
    "output = output.head(15)"
   ]
  },
  {
   "cell_type": "code",
   "execution_count": 81,
   "metadata": {
    "collapsed": false
   },
   "outputs": [],
   "source": [
    "output.rename(columns={'sum': 'Salary'}, inplace=True)"
   ]
  },
  {
   "cell_type": "code",
   "execution_count": 82,
   "metadata": {
    "collapsed": false
   },
   "outputs": [
    {
     "data": {
      "image/png": "[encoded data removed]",
      "text/plain": [
       "<matplotlib.figure.Figure at 0x7f5a010b1690>"
      ]
     },
     "metadata": {},
     "output_type": "display_data"
    }
   ],
   "source": [
    "myplot = output.plot(kind='bar',title='Baltimore Total Annual Salary by Job Title - 2014')"
   ]
  },
  {
   "cell_type": "code",
   "execution_count": 83,
   "metadata": {
    "collapsed": false
   },
   "outputs": [
    {
     "data": {
      "text/plain": [
       "<matplotlib.text.Text at 0x7f5a008af250>"
      ]
     },
     "execution_count": 83,
     "metadata": {},
     "output_type": "execute_result"
    }
   ],
   "source": [
    "myplot.set_ylabel('$ Millions')"
   ]
  },
  {
   "cell_type": "code",
   "execution_count": 84,
   "metadata": {
    "collapsed": false
   },
   "outputs": [
    {
     "data": {
      "image/png": "[encoded data removed]",
      "text/plain": [
       "<matplotlib.figure.Figure at 0x7f5a010b1690>"
      ]
     },
     "execution_count": 84,
     "metadata": {},
     "output_type": "execute_result"
    }
   ],
   "source": [
    "myplot.figure"
   ]
  },
  {
   "cell_type": "code",
   "execution_count": null,
   "metadata": {
    "collapsed": true
   },
   "outputs": [],
   "source": []
  }
 ],
 "metadata": {
  "kernelspec": {
   "display_name": "Python 2",
   "language": "python",
   "name": "python2"
  },
  "language_info": {
   "codemirror_mode": {
    "name": "ipython",
    "version": 2
   },
   "file_extension": ".py",
   "mimetype": "text/x-python",
   "name": "python",
   "nbconvert_exporter": "python",
   "pygments_lexer": "ipython2",
   "version": "2.7.6"
  }
 },
 "nbformat": 4,
 "nbformat_minor": 0
}
